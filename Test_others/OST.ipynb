{
 "cells": [
  {
   "cell_type": "code",
   "execution_count": 1,
   "metadata": {},
   "outputs": [],
   "source": [
    "from MALDIMap import MALDINet\n",
    "from MALDIMap.utils import LoadMSData, SaveMpOrX, PlotCurve\n",
    "\n",
    "import os\n",
    "import gc\n",
    "import tensorflow as tf\n",
    "import pandas as pd\n",
    "import numpy as np\n",
    "import matplotlib.pyplot as plt\n",
    "from joblib import load, dump\n",
    "\n",
    "from sklearn.metrics import recall_score,precision_score\n",
    "from sklearn.metrics import roc_auc_score, accuracy_score, average_precision_score, f1_score\n",
    "from sklearn.model_selection import RandomizedSearchCV, GridSearchCV\n",
    "from sklearn.model_selection import StratifiedKFold,KFold,RepeatedKFold,RepeatedStratifiedKFold, train_test_split\n",
    "from aggmap import AggMap, AggMapNet"
   ]
  },
  {
   "cell_type": "code",
   "execution_count": 2,
   "metadata": {},
   "outputs": [],
   "source": [
    "os.environ[\"CUDA_VISIBLE_DEVICES\"]='3'\n",
    "os.environ['KMP_DUPLICATE_LIB_OK']=\"TRUE\"\n",
    "physical_gpus = tf.config.list_physical_devices('GPU')\n",
    "tf.config.experimental.set_memory_growth(physical_gpus[0], True)    #动态调用GPU"
   ]
  },
  {
   "cell_type": "code",
   "execution_count": 3,
   "metadata": {},
   "outputs": [],
   "source": [
    "root_path = '/raid/lzyt_dir/Data/'#质谱csv和标签路径\n",
    "save_path = '/mnt/lzyt/SmallSamples'#mp和X保存路径"
   ]
  },
  {
   "cell_type": "markdown",
   "metadata": {},
   "source": [
    "## Data_8 共1个任务  健康：骨肉瘤肺转移：骨肉瘤未转移= 36：56：50"
   ]
  },
  {
   "cell_type": "code",
   "execution_count": 4,
   "metadata": {},
   "outputs": [],
   "source": [
    "dfx = LoadMSData(root_path = root_path, data_path = 'data8/peaks.csv', t = True)\n",
    "Y = np.zeros((142,3))                                             #将标签以独热编码存起来142\n",
    "for i in range (0,36):                                           #H 36例\n",
    "    Y[i,0] = 1                                                    \n",
    "for i in range (36,92):                                          #L 56例\n",
    "    Y[i,1] = 1                                                   \n",
    "for i in range (92,142):                                         #NL 50例\n",
    "    Y[i,2] = 1                                                   \n",
    "y = Y.astype(int)\n",
    "Y = np.zeros(142)                                                #用于分层的标签\n",
    "for i in range (0,36):                                           #H 36例\n",
    "    Y[i] = 0                                                    \n",
    "for i in range (36,92):                                          #L 56例\n",
    "    Y[i] = 1                                                   \n",
    "for i in range (92,142):                                         #NL 50例\n",
    "    Y[i] = 2 \n",
    "Y = Y.astype(int)"
   ]
  },
  {
   "cell_type": "code",
   "execution_count": 8,
   "metadata": {
    "collapsed": true
   },
   "outputs": [
    {
     "data": {
      "text/html": [
       "<div>\n",
       "<style scoped>\n",
       "    .dataframe tbody tr th:only-of-type {\n",
       "        vertical-align: middle;\n",
       "    }\n",
       "\n",
       "    .dataframe tbody tr th {\n",
       "        vertical-align: top;\n",
       "    }\n",
       "\n",
       "    .dataframe thead th {\n",
       "        text-align: right;\n",
       "    }\n",
       "</style>\n",
       "<table border=\"1\" class=\"dataframe\">\n",
       "  <thead>\n",
       "    <tr style=\"text-align: right;\">\n",
       "      <th></th>\n",
       "      <th>2208.0</th>\n",
       "      <th>2216.0</th>\n",
       "      <th>2225.0</th>\n",
       "      <th>2227.0</th>\n",
       "      <th>2238.0</th>\n",
       "      <th>2247.0</th>\n",
       "      <th>2249.0</th>\n",
       "      <th>2259.0</th>\n",
       "      <th>2269.0</th>\n",
       "      <th>2272.0</th>\n",
       "      <th>...</th>\n",
       "      <th>6443.0</th>\n",
       "      <th>6641.0</th>\n",
       "      <th>6685.0</th>\n",
       "      <th>6768.0</th>\n",
       "      <th>6970.0</th>\n",
       "      <th>6993.0</th>\n",
       "      <th>7626.0</th>\n",
       "      <th>7945.0</th>\n",
       "      <th>8612.0</th>\n",
       "      <th>8943.0</th>\n",
       "    </tr>\n",
       "  </thead>\n",
       "  <tbody>\n",
       "    <tr>\n",
       "      <th>0</th>\n",
       "      <td>2.374906</td>\n",
       "      <td>4.264514</td>\n",
       "      <td>3.027746</td>\n",
       "      <td>2.021240</td>\n",
       "      <td>2.346486</td>\n",
       "      <td>1.438073</td>\n",
       "      <td>5.109197</td>\n",
       "      <td>2.420660</td>\n",
       "      <td>6.413190</td>\n",
       "      <td>5.079065</td>\n",
       "      <td>...</td>\n",
       "      <td>3.093940</td>\n",
       "      <td>2.397209</td>\n",
       "      <td>2.278436</td>\n",
       "      <td>0.806902</td>\n",
       "      <td>0.256742</td>\n",
       "      <td>1.478951</td>\n",
       "      <td>3.315899</td>\n",
       "      <td>0.465027</td>\n",
       "      <td>0.462932</td>\n",
       "      <td>2.253575</td>\n",
       "    </tr>\n",
       "    <tr>\n",
       "      <th>1</th>\n",
       "      <td>1.586887</td>\n",
       "      <td>3.343985</td>\n",
       "      <td>1.898540</td>\n",
       "      <td>0.890767</td>\n",
       "      <td>7.005771</td>\n",
       "      <td>5.238413</td>\n",
       "      <td>3.164339</td>\n",
       "      <td>5.339230</td>\n",
       "      <td>5.500146</td>\n",
       "      <td>6.478841</td>\n",
       "      <td>...</td>\n",
       "      <td>0.073618</td>\n",
       "      <td>3.886400</td>\n",
       "      <td>4.647211</td>\n",
       "      <td>1.335185</td>\n",
       "      <td>1.805491</td>\n",
       "      <td>1.409422</td>\n",
       "      <td>5.254517</td>\n",
       "      <td>2.287986</td>\n",
       "      <td>4.078729</td>\n",
       "      <td>1.567520</td>\n",
       "    </tr>\n",
       "    <tr>\n",
       "      <th>2</th>\n",
       "      <td>2.215919</td>\n",
       "      <td>3.712327</td>\n",
       "      <td>3.588721</td>\n",
       "      <td>3.032524</td>\n",
       "      <td>4.736695</td>\n",
       "      <td>3.143461</td>\n",
       "      <td>5.708686</td>\n",
       "      <td>5.610888</td>\n",
       "      <td>4.778993</td>\n",
       "      <td>4.780972</td>\n",
       "      <td>...</td>\n",
       "      <td>1.668254</td>\n",
       "      <td>2.787894</td>\n",
       "      <td>1.557031</td>\n",
       "      <td>0.818632</td>\n",
       "      <td>3.551865</td>\n",
       "      <td>2.177890</td>\n",
       "      <td>7.107766</td>\n",
       "      <td>1.760850</td>\n",
       "      <td>0.620606</td>\n",
       "      <td>2.362909</td>\n",
       "    </tr>\n",
       "    <tr>\n",
       "      <th>3</th>\n",
       "      <td>1.561481</td>\n",
       "      <td>2.927603</td>\n",
       "      <td>4.224639</td>\n",
       "      <td>4.921712</td>\n",
       "      <td>5.529260</td>\n",
       "      <td>2.332047</td>\n",
       "      <td>4.897834</td>\n",
       "      <td>4.947587</td>\n",
       "      <td>3.159059</td>\n",
       "      <td>1.646745</td>\n",
       "      <td>...</td>\n",
       "      <td>3.354092</td>\n",
       "      <td>2.798721</td>\n",
       "      <td>2.400270</td>\n",
       "      <td>2.436804</td>\n",
       "      <td>3.908383</td>\n",
       "      <td>1.452407</td>\n",
       "      <td>8.843560</td>\n",
       "      <td>5.559745</td>\n",
       "      <td>0.827735</td>\n",
       "      <td>0.973606</td>\n",
       "    </tr>\n",
       "    <tr>\n",
       "      <th>4</th>\n",
       "      <td>3.658209</td>\n",
       "      <td>4.466523</td>\n",
       "      <td>3.715490</td>\n",
       "      <td>5.718252</td>\n",
       "      <td>5.003395</td>\n",
       "      <td>4.520780</td>\n",
       "      <td>4.720882</td>\n",
       "      <td>4.171102</td>\n",
       "      <td>6.477026</td>\n",
       "      <td>5.353912</td>\n",
       "      <td>...</td>\n",
       "      <td>4.057702</td>\n",
       "      <td>2.230162</td>\n",
       "      <td>2.373647</td>\n",
       "      <td>1.768109</td>\n",
       "      <td>2.895810</td>\n",
       "      <td>1.883490</td>\n",
       "      <td>4.266529</td>\n",
       "      <td>8.658395</td>\n",
       "      <td>0.850413</td>\n",
       "      <td>0.830646</td>\n",
       "    </tr>\n",
       "    <tr>\n",
       "      <th>...</th>\n",
       "      <td>...</td>\n",
       "      <td>...</td>\n",
       "      <td>...</td>\n",
       "      <td>...</td>\n",
       "      <td>...</td>\n",
       "      <td>...</td>\n",
       "      <td>...</td>\n",
       "      <td>...</td>\n",
       "      <td>...</td>\n",
       "      <td>...</td>\n",
       "      <td>...</td>\n",
       "      <td>...</td>\n",
       "      <td>...</td>\n",
       "      <td>...</td>\n",
       "      <td>...</td>\n",
       "      <td>...</td>\n",
       "      <td>...</td>\n",
       "      <td>...</td>\n",
       "      <td>...</td>\n",
       "      <td>...</td>\n",
       "      <td>...</td>\n",
       "    </tr>\n",
       "    <tr>\n",
       "      <th>137</th>\n",
       "      <td>5.149613</td>\n",
       "      <td>1.021660</td>\n",
       "      <td>12.367983</td>\n",
       "      <td>13.307593</td>\n",
       "      <td>7.747415</td>\n",
       "      <td>11.175052</td>\n",
       "      <td>12.308735</td>\n",
       "      <td>1.416052</td>\n",
       "      <td>6.244122</td>\n",
       "      <td>7.800350</td>\n",
       "      <td>...</td>\n",
       "      <td>0.859947</td>\n",
       "      <td>4.509434</td>\n",
       "      <td>9.350139</td>\n",
       "      <td>10.990928</td>\n",
       "      <td>9.378284</td>\n",
       "      <td>15.068692</td>\n",
       "      <td>2.023644</td>\n",
       "      <td>1.597739</td>\n",
       "      <td>2.960428</td>\n",
       "      <td>0.410254</td>\n",
       "    </tr>\n",
       "    <tr>\n",
       "      <th>138</th>\n",
       "      <td>0.603752</td>\n",
       "      <td>7.137119</td>\n",
       "      <td>9.789531</td>\n",
       "      <td>6.588657</td>\n",
       "      <td>6.991312</td>\n",
       "      <td>8.089764</td>\n",
       "      <td>7.001896</td>\n",
       "      <td>0.505007</td>\n",
       "      <td>5.791170</td>\n",
       "      <td>3.573749</td>\n",
       "      <td>...</td>\n",
       "      <td>4.838269</td>\n",
       "      <td>2.849689</td>\n",
       "      <td>5.160426</td>\n",
       "      <td>5.731947</td>\n",
       "      <td>6.862079</td>\n",
       "      <td>12.655783</td>\n",
       "      <td>1.980870</td>\n",
       "      <td>2.604762</td>\n",
       "      <td>2.400120</td>\n",
       "      <td>2.623661</td>\n",
       "    </tr>\n",
       "    <tr>\n",
       "      <th>139</th>\n",
       "      <td>1.140033</td>\n",
       "      <td>6.931005</td>\n",
       "      <td>12.879026</td>\n",
       "      <td>7.219526</td>\n",
       "      <td>6.114812</td>\n",
       "      <td>13.258256</td>\n",
       "      <td>9.557385</td>\n",
       "      <td>1.361930</td>\n",
       "      <td>9.113288</td>\n",
       "      <td>7.241417</td>\n",
       "      <td>...</td>\n",
       "      <td>4.195835</td>\n",
       "      <td>2.735596</td>\n",
       "      <td>4.935091</td>\n",
       "      <td>6.881160</td>\n",
       "      <td>10.018234</td>\n",
       "      <td>12.600659</td>\n",
       "      <td>2.575731</td>\n",
       "      <td>3.427110</td>\n",
       "      <td>1.952226</td>\n",
       "      <td>5.030157</td>\n",
       "    </tr>\n",
       "    <tr>\n",
       "      <th>140</th>\n",
       "      <td>0.553815</td>\n",
       "      <td>10.113647</td>\n",
       "      <td>9.430793</td>\n",
       "      <td>4.121029</td>\n",
       "      <td>17.213266</td>\n",
       "      <td>9.065296</td>\n",
       "      <td>5.005007</td>\n",
       "      <td>3.149287</td>\n",
       "      <td>6.691718</td>\n",
       "      <td>5.762540</td>\n",
       "      <td>...</td>\n",
       "      <td>4.645874</td>\n",
       "      <td>0.319732</td>\n",
       "      <td>4.647387</td>\n",
       "      <td>5.650880</td>\n",
       "      <td>12.108153</td>\n",
       "      <td>11.746351</td>\n",
       "      <td>2.303853</td>\n",
       "      <td>11.149419</td>\n",
       "      <td>2.773087</td>\n",
       "      <td>3.728802</td>\n",
       "    </tr>\n",
       "    <tr>\n",
       "      <th>141</th>\n",
       "      <td>0.042993</td>\n",
       "      <td>7.986445</td>\n",
       "      <td>6.021527</td>\n",
       "      <td>2.192000</td>\n",
       "      <td>14.391226</td>\n",
       "      <td>4.631367</td>\n",
       "      <td>2.044687</td>\n",
       "      <td>2.202416</td>\n",
       "      <td>2.864499</td>\n",
       "      <td>2.679734</td>\n",
       "      <td>...</td>\n",
       "      <td>3.217615</td>\n",
       "      <td>1.364244</td>\n",
       "      <td>4.469675</td>\n",
       "      <td>4.361868</td>\n",
       "      <td>7.805584</td>\n",
       "      <td>8.953295</td>\n",
       "      <td>1.083965</td>\n",
       "      <td>7.026177</td>\n",
       "      <td>0.959800</td>\n",
       "      <td>1.850012</td>\n",
       "    </tr>\n",
       "  </tbody>\n",
       "</table>\n",
       "<p>142 rows × 286 columns</p>\n",
       "</div>"
      ],
      "text/plain": [
       "       2208.0     2216.0     2225.0     2227.0     2238.0     2247.0  \\\n",
       "0    2.374906   4.264514   3.027746   2.021240   2.346486   1.438073   \n",
       "1    1.586887   3.343985   1.898540   0.890767   7.005771   5.238413   \n",
       "2    2.215919   3.712327   3.588721   3.032524   4.736695   3.143461   \n",
       "3    1.561481   2.927603   4.224639   4.921712   5.529260   2.332047   \n",
       "4    3.658209   4.466523   3.715490   5.718252   5.003395   4.520780   \n",
       "..        ...        ...        ...        ...        ...        ...   \n",
       "137  5.149613   1.021660  12.367983  13.307593   7.747415  11.175052   \n",
       "138  0.603752   7.137119   9.789531   6.588657   6.991312   8.089764   \n",
       "139  1.140033   6.931005  12.879026   7.219526   6.114812  13.258256   \n",
       "140  0.553815  10.113647   9.430793   4.121029  17.213266   9.065296   \n",
       "141  0.042993   7.986445   6.021527   2.192000  14.391226   4.631367   \n",
       "\n",
       "        2249.0    2259.0    2269.0    2272.0  ...    6443.0    6641.0  \\\n",
       "0     5.109197  2.420660  6.413190  5.079065  ...  3.093940  2.397209   \n",
       "1     3.164339  5.339230  5.500146  6.478841  ...  0.073618  3.886400   \n",
       "2     5.708686  5.610888  4.778993  4.780972  ...  1.668254  2.787894   \n",
       "3     4.897834  4.947587  3.159059  1.646745  ...  3.354092  2.798721   \n",
       "4     4.720882  4.171102  6.477026  5.353912  ...  4.057702  2.230162   \n",
       "..         ...       ...       ...       ...  ...       ...       ...   \n",
       "137  12.308735  1.416052  6.244122  7.800350  ...  0.859947  4.509434   \n",
       "138   7.001896  0.505007  5.791170  3.573749  ...  4.838269  2.849689   \n",
       "139   9.557385  1.361930  9.113288  7.241417  ...  4.195835  2.735596   \n",
       "140   5.005007  3.149287  6.691718  5.762540  ...  4.645874  0.319732   \n",
       "141   2.044687  2.202416  2.864499  2.679734  ...  3.217615  1.364244   \n",
       "\n",
       "       6685.0     6768.0     6970.0     6993.0    7626.0     7945.0    8612.0  \\\n",
       "0    2.278436   0.806902   0.256742   1.478951  3.315899   0.465027  0.462932   \n",
       "1    4.647211   1.335185   1.805491   1.409422  5.254517   2.287986  4.078729   \n",
       "2    1.557031   0.818632   3.551865   2.177890  7.107766   1.760850  0.620606   \n",
       "3    2.400270   2.436804   3.908383   1.452407  8.843560   5.559745  0.827735   \n",
       "4    2.373647   1.768109   2.895810   1.883490  4.266529   8.658395  0.850413   \n",
       "..        ...        ...        ...        ...       ...        ...       ...   \n",
       "137  9.350139  10.990928   9.378284  15.068692  2.023644   1.597739  2.960428   \n",
       "138  5.160426   5.731947   6.862079  12.655783  1.980870   2.604762  2.400120   \n",
       "139  4.935091   6.881160  10.018234  12.600659  2.575731   3.427110  1.952226   \n",
       "140  4.647387   5.650880  12.108153  11.746351  2.303853  11.149419  2.773087   \n",
       "141  4.469675   4.361868   7.805584   8.953295  1.083965   7.026177  0.959800   \n",
       "\n",
       "       8943.0  \n",
       "0    2.253575  \n",
       "1    1.567520  \n",
       "2    2.362909  \n",
       "3    0.973606  \n",
       "4    0.830646  \n",
       "..        ...  \n",
       "137  0.410254  \n",
       "138  2.623661  \n",
       "139  5.030157  \n",
       "140  3.728802  \n",
       "141  1.850012  \n",
       "\n",
       "[142 rows x 286 columns]"
      ]
     },
     "execution_count": 8,
     "metadata": {},
     "output_type": "execute_result"
    }
   ],
   "source": [
    "dfx"
   ]
  },
  {
   "cell_type": "code",
   "execution_count": 9,
   "metadata": {},
   "outputs": [
    {
     "name": "stdout",
     "output_type": "stream",
     "text": [
      "2024-01-02 14:36:03,449 - INFO - [bidd-aggmap] - Calculating distance ...\n",
      "2024-01-02 14:36:03,462 - INFO - [bidd-aggmap] - the number of process is 16\n"
     ]
    },
    {
     "name": "stderr",
     "output_type": "stream",
     "text": [
      "100%|##########| 40755/40755 [00:01<00:00, 20950.30it/s]\n",
      "100%|##########| 40755/40755 [00:00<00:00, 1087611.80it/s]\n",
      "100%|##########| 286/286 [00:00<00:00, 561.93it/s]\n"
     ]
    },
    {
     "name": "stdout",
     "output_type": "stream",
     "text": [
      "2024-01-02 14:36:06,241 - INFO - [bidd-aggmap] - applying hierarchical clustering to obtain group information ...\n",
      "2024-01-02 14:36:10,272 - INFO - [bidd-aggmap] - Applying grid assignment of feature points, this may take several minutes(1~30 min)\n",
      "2024-01-02 14:36:10,357 - INFO - [bidd-aggmap] - Finished\n"
     ]
    }
   ],
   "source": [
    "mp = AggMap(dfx, metric = 'euclidean')                        #使用欧式距离\n",
    "mp.fit(cluster_channels=7, emb_method = 'umap', verbose=0)      #设置通道值\n",
    "SaveMpOrX(data = mp, save_path = save_path, data_num = 'data8', file_type = 'aggmap', file_name = 'aggmap_peaks.mp')"
   ]
  },
  {
   "cell_type": "code",
   "execution_count": 5,
   "metadata": {},
   "outputs": [],
   "source": [
    "mp = load('/mnt/lzyt/SmallSamples/data8/aggmap/aggmap_peaks.mp')"
   ]
  },
  {
   "cell_type": "code",
   "execution_count": 6,
   "metadata": {},
   "outputs": [
    {
     "name": "stderr",
     "output_type": "stream",
     "text": [
      "100%|##########| 142/142 [00:04<00:00, 34.84it/s] \n"
     ]
    }
   ],
   "source": [
    "# Transoformation of 1d vectors to 3D Fmaps (-1, w, h, c) by AggMap\n",
    "X = mp.batch_transform(dfx.values, n_jobs=4, scale_method = 'minmax')\n",
    "#SaveMpOrX(data = X, save_path = save_path, data_num = 'data1', file_type = 'Xdata', file_name = 'X_human_0.2.dat')"
   ]
  },
  {
   "cell_type": "code",
   "execution_count": 12,
   "metadata": {
    "scrolled": true
   },
   "outputs": [
    {
     "name": "stdout",
     "output_type": "stream",
     "text": [
      "y_pred is  [0 0 0 0 0 0 0 0 1 1 1 1 1 1 1 1 1 1 1 2 2 2 2 2 2 2 2 2 2]\n",
      "y_real is  [0 0 0 0 0 0 0 0 1 1 1 1 1 1 1 1 1 1 1 2 2 2 2 2 2 2 2 2 2]\n",
      "Acc =  1.0\n",
      "f1_score =  1.0\n",
      "average_precision =  1.0\n",
      "recall_score =  1.0\n"
     ]
    },
    {
     "data": {
      "image/png": "[encoded data removed]",
      "text/plain": [
       "<Figure size 432x288 with 1 Axes>"
      ]
     },
     "metadata": {
      "needs_background": "light"
     },
     "output_type": "display_data"
    },
    {
     "name": "stdout",
     "output_type": "stream",
     "text": [
      "y_pred is  [0 0 0 0 0 0 0 1 1 1 1 1 1 1 1 1 1 1 1 2 2 2 2 2 2 2 2 2 2]\n",
      "y_real is  [0 0 0 0 0 0 0 1 1 1 1 1 1 1 1 1 1 1 1 2 2 2 2 2 2 2 2 2 2]\n",
      "Acc =  1.0\n",
      "f1_score =  1.0\n",
      "average_precision =  1.0\n",
      "recall_score =  1.0\n"
     ]
    },
    {
     "data": {
      "image/png": "[encoded data removed]",
      "text/plain": [
       "<Figure size 432x288 with 1 Axes>"
      ]
     },
     "metadata": {
      "needs_background": "light"
     },
     "output_type": "display_data"
    },
    {
     "name": "stdout",
     "output_type": "stream",
     "text": [
      "y_pred is  [0 0 0 0 0 0 0 1 1 1 1 1 1 1 1 1 1 1 2 2 2 2 2 2 2 2 2 2]\n",
      "y_real is  [0 0 0 0 0 0 0 1 1 1 1 1 1 1 1 1 1 1 2 2 2 2 2 2 2 2 2 2]\n",
      "Acc =  1.0\n",
      "f1_score =  1.0\n",
      "average_precision =  1.0\n",
      "recall_score =  1.0\n"
     ]
    },
    {
     "data": {
      "image/png": "[encoded data removed]",
      "text/plain": [
       "<Figure size 432x288 with 1 Axes>"
      ]
     },
     "metadata": {
      "needs_background": "light"
     },
     "output_type": "display_data"
    },
    {
     "name": "stdout",
     "output_type": "stream",
     "text": [
      "y_pred is  [0 0 0 0 0 0 0 1 1 1 1 1 2 1 1 1 1 1 2 2 2 2 2 2 2 2 2 2]\n",
      "y_real is  [0 0 0 0 0 0 0 1 1 1 1 1 1 1 1 1 1 1 2 2 2 2 2 2 2 2 2 2]\n",
      "Acc =  0.9642857142857143\n",
      "f1_score =  0.9642857142857143\n",
      "average_precision =  0.9642857142857143\n",
      "recall_score =  0.9642857142857143\n"
     ]
    },
    {
     "data": {
      "image/png": "[encoded data removed]",
      "text/plain": [
       "<Figure size 432x288 with 1 Axes>"
      ]
     },
     "metadata": {
      "needs_background": "light"
     },
     "output_type": "display_data"
    },
    {
     "name": "stdout",
     "output_type": "stream",
     "text": [
      "y_pred is  [0 0 0 0 0 0 0 1 1 1 1 1 1 1 1 1 1 1 2 2 2 2 2 2 2 2 2 2]\n",
      "y_real is  [0 0 0 0 0 0 0 1 1 1 1 1 1 1 1 1 1 1 2 2 2 2 2 2 2 2 2 2]\n",
      "Acc =  1.0\n",
      "f1_score =  1.0\n",
      "average_precision =  1.0\n",
      "recall_score =  1.0\n"
     ]
    },
    {
     "data": {
      "image/png": "[encoded data removed]",
      "text/plain": [
       "<Figure size 432x288 with 1 Axes>"
      ]
     },
     "metadata": {
      "needs_background": "light"
     },
     "output_type": "display_data"
    },
    {
     "data": {
      "text/plain": [
       "0.9928571428571429"
      ]
     },
     "execution_count": 12,
     "metadata": {},
     "output_type": "execute_result"
    }
   ],
   "source": [
    "#三核 四折交叉验证最佳结果\n",
    "outer = StratifiedKFold(n_splits = 5,shuffle = True,random_state=42)      #数据集进行分层交叉验证划分训练集和测试集\n",
    "Sum_acc = 0\n",
    "for train_index,test_index in outer.split(X,Y):\n",
    "    train_X,test_X = X[train_index],X[test_index]\n",
    "    train_Y,test_y = y[train_index],Y[test_index]\n",
    "    \n",
    "    clf = MALDINet.MultiClassEstimator(kernel_block='MK',dense_layers=[256,128,64],batch_size=128,epochs=50,gpuid=3)\n",
    "    clf.fit(train_X, train_Y)\n",
    "\n",
    "    y_pred = clf.predict(test_X)\n",
    "    #MADLINet Test Metrics\n",
    "    #auc = roc_auc_score(test_y, y_pred)\n",
    "    print('y_pred is ',y_pred)\n",
    "    print('y_real is ',test_y)\n",
    "    acc = accuracy_score(test_y,y_pred)\n",
    "    rec = recall_score(test_y, y_pred,average=\"micro\")\n",
    "    f1 = f1_score(test_y, y_pred,average=\"micro\")\n",
    "    pr = precision_score(test_y, y_pred,average=\"micro\")\n",
    "    #print(\"Auc = \",auc)\n",
    "    print(\"Acc = \",acc)\n",
    "    print(\"f1_score = \",f1)\n",
    "    print(\"average_precision = \",pr)\n",
    "    print(\"recall_score = \",rec)\n",
    "    Sum_acc += acc\n",
    "    #plot train curve\n",
    "    PlotCurve(clf.history)\n",
    "Sum_acc / 5"
   ]
  },
  {
   "cell_type": "code",
   "execution_count": 11,
   "metadata": {
    "scrolled": true
   },
   "outputs": [
    {
     "name": "stdout",
     "output_type": "stream",
     "text": [
      "y_pred is  [0 0 0 0 0 0 0 0 1 1 1 1 1 1 1 1 1 1 1 2 2 2 2 2 2 2 2 2 2]\n",
      "y_true is  [0 0 0 0 0 0 0 0 1 1 1 1 1 1 1 1 1 1 1 2 2 2 2 2 2 2 2 2 2]\n",
      "Auc is  1.0\n",
      "Acc =  1.0\n",
      "f1_score =  1.0\n",
      "average_precision =  1.0\n",
      "recall_score =  1.0\n"
     ]
    },
    {
     "data": {
      "image/png": "[encoded data removed]",
      "text/plain": [
       "<Figure size 432x288 with 1 Axes>"
      ]
     },
     "metadata": {
      "needs_background": "light"
     },
     "output_type": "display_data"
    },
    {
     "name": "stdout",
     "output_type": "stream",
     "text": [
      "y_pred is  [0 0 0 0 0 0 0 1 1 1 1 1 1 1 1 1 1 1 1 2 2 2 2 2 2 2 2 2 2]\n",
      "y_true is  [0 0 0 0 0 0 0 1 1 1 1 1 1 1 1 1 1 1 1 2 2 2 2 2 2 2 2 2 2]\n",
      "Auc is  1.0\n",
      "Acc =  1.0\n",
      "f1_score =  1.0\n",
      "average_precision =  1.0\n",
      "recall_score =  1.0\n"
     ]
    },
    {
     "data": {
      "image/png": "[encoded data removed]",
      "text/plain": [
       "<Figure size 432x288 with 1 Axes>"
      ]
     },
     "metadata": {
      "needs_background": "light"
     },
     "output_type": "display_data"
    },
    {
     "name": "stdout",
     "output_type": "stream",
     "text": [
      "y_pred is  [0 0 0 0 0 0 0 1 1 1 1 1 1 1 1 1 1 1 2 2 2 2 2 2 2 2 2 2]\n",
      "y_true is  [0 0 0 0 0 0 0 1 1 1 1 1 1 1 1 1 1 1 2 2 2 2 2 2 2 2 2 2]\n",
      "Auc is  1.0\n",
      "Acc =  1.0\n",
      "f1_score =  1.0\n",
      "average_precision =  1.0\n",
      "recall_score =  1.0\n"
     ]
    },
    {
     "data": {
      "image/png": "[encoded data removed]",
      "text/plain": [
       "<Figure size 432x288 with 1 Axes>"
      ]
     },
     "metadata": {
      "needs_background": "light"
     },
     "output_type": "display_data"
    },
    {
     "name": "stdout",
     "output_type": "stream",
     "text": [
      "y_pred is  [0 0 0 0 0 0 0 1 1 1 1 1 2 1 1 1 1 1 2 2 2 2 2 2 2 2 2 2]\n",
      "y_true is  [0 0 0 0 0 0 0 1 1 1 1 1 1 1 1 1 1 1 2 2 2 2 2 2 2 2 2 2]\n",
      "Auc is  0.9963656169538523\n",
      "Acc =  0.9642857142857143\n",
      "f1_score =  0.9642857142857143\n",
      "average_precision =  0.9642857142857143\n",
      "recall_score =  0.9642857142857143\n"
     ]
    },
    {
     "data": {
      "image/png": "[encoded data removed]",
      "text/plain": [
       "<Figure size 432x288 with 1 Axes>"
      ]
     },
     "metadata": {
      "needs_background": "light"
     },
     "output_type": "display_data"
    },
    {
     "name": "stdout",
     "output_type": "stream",
     "text": [
      "y_pred is  [0 0 0 0 0 0 0 1 1 1 1 1 1 1 1 1 1 1 2 2 2 2 2 2 2 2 2 2]\n",
      "y_true is  [0 0 0 0 0 0 0 1 1 1 1 1 1 1 1 1 1 1 2 2 2 2 2 2 2 2 2 2]\n",
      "Auc is  1.0\n",
      "Acc =  1.0\n",
      "f1_score =  1.0\n",
      "average_precision =  1.0\n",
      "recall_score =  1.0\n"
     ]
    },
    {
     "data": {
      "image/png": "[encoded data removed]",
      "text/plain": [
       "<Figure size 432x288 with 1 Axes>"
      ]
     },
     "metadata": {
      "needs_background": "light"
     },
     "output_type": "display_data"
    },
    {
     "data": {
      "text/plain": [
       "0.9928571428571429"
      ]
     },
     "execution_count": 11,
     "metadata": {},
     "output_type": "execute_result"
    }
   ],
   "source": [
    "#三核 四折交叉验证最佳结果带AUC\n",
    "outer = StratifiedKFold(n_splits = 5,shuffle = True,random_state=42)      #数据集进行分层交叉验证划分训练集和测试集\n",
    "Sum_acc = 0\n",
    "for train_index,test_index in outer.split(X,Y):\n",
    "    train_X,test_X = X[train_index],X[test_index]\n",
    "    train_Y,test_y = y[train_index],Y[test_index]\n",
    "    \n",
    "    clf = MALDINet.MultiClassEstimator(kernel_block='MK',dense_layers=[256,128,64],batch_size=128,epochs=50,gpuid=3)\n",
    "    clf.fit(train_X, train_Y)\n",
    "\n",
    "    y_pred = clf.predict(test_X)\n",
    "    y_prob = clf.predict_probs(test_X)\n",
    "    #MADLINet Test Metrics\n",
    "    auc = roc_auc_score(test_y, y_prob,multi_class='ovr')\n",
    "    print('y_pred is ',y_pred)\n",
    "    print('y_true is ',test_y)\n",
    "    acc = accuracy_score(test_y,y_pred)\n",
    "    rec = recall_score(test_y, y_pred,average=\"micro\")\n",
    "    f1 = f1_score(test_y, y_pred,average=\"micro\")\n",
    "    pr = precision_score(test_y, y_pred,average=\"micro\")\n",
    "    print(\"Auc is \",auc)\n",
    "    print(\"Acc = \",acc)\n",
    "    print(\"f1_score = \",f1)\n",
    "    print(\"average_precision = \",pr)\n",
    "    print(\"recall_score = \",rec)\n",
    "    Sum_acc += acc\n",
    "    #plot train curve\n",
    "    PlotCurve(clf.history)\n",
    "Sum_acc / 5"
   ]
  },
  {
   "cell_type": "code",
   "execution_count": null,
   "metadata": {},
   "outputs": [],
   "source": []
  }
 ],
 "metadata": {
  "kernelspec": {
   "display_name": "aggmapnet",
   "language": "python",
   "name": "aggmapnet"
  },
  "language_info": {
   "codemirror_mode": {
    "name": "ipython",
    "version": 3
   },
   "file_extension": ".py",
   "mimetype": "text/x-python",
   "name": "python",
   "nbconvert_exporter": "python",
   "pygments_lexer": "ipython3",
   "version": "3.6.9"
  }
 },
 "nbformat": 4,
 "nbformat_minor": 2
}
