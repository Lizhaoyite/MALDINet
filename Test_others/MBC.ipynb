{
 "cells": [
  {
   "cell_type": "code",
   "execution_count": 1,
   "metadata": {},
   "outputs": [],
   "source": [
    "from MALDIMap import MALDINet\n",
    "from MALDIMap.utils import LoadMSData, SaveMpOrX, PlotCurve\n",
    "\n",
    "import os\n",
    "import gc\n",
    "import tensorflow as tf\n",
    "import pandas as pd\n",
    "import numpy as np\n",
    "import matplotlib.pyplot as plt\n",
    "from joblib import load, dump\n",
    "\n",
    "from sklearn.metrics import recall_score,precision_score\n",
    "from sklearn.metrics import roc_auc_score, accuracy_score, average_precision_score, f1_score\n",
    "from sklearn.model_selection import RandomizedSearchCV, GridSearchCV\n",
    "from sklearn.model_selection import StratifiedKFold,KFold,RepeatedKFold,RepeatedStratifiedKFold, train_test_split\n",
    "from aggmap import AggMap, AggMapNet"
   ]
  },
  {
   "cell_type": "code",
   "execution_count": 2,
   "metadata": {},
   "outputs": [],
   "source": [
    "os.environ[\"CUDA_VISIBLE_DEVICES\"]='5'\n",
    "os.environ['KMP_DUPLICATE_LIB_OK']=\"TRUE\"\n",
    "physical_gpus = tf.config.list_physical_devices('GPU')\n",
    "tf.config.experimental.set_memory_growth(physical_gpus[0], True)    #动态调用GPU"
   ]
  },
  {
   "cell_type": "code",
   "execution_count": 3,
   "metadata": {},
   "outputs": [],
   "source": [
    "root_path = '/raid/lzyt_dir/Data/'#质谱csv和标签路径\n",
    "save_path = '/mnt/lzyt/SmallSamples'#mp和X保存路径"
   ]
  },
  {
   "cell_type": "markdown",
   "metadata": {},
   "source": [
    "## Data_10 共1个任务  Neurons：Astrocytes= 684：860"
   ]
  },
  {
   "cell_type": "code",
   "execution_count": 13,
   "metadata": {},
   "outputs": [],
   "source": [
    "def FilterMassPeaks(df, min_count=None, min_freq=None):\n",
    "    if min_count is None and min_freq is None:\n",
    "        raise ValueError(\"At least one of 'min_count' and 'min_freq' must be provided.\")\n",
    "    elif min_count is not None and min_freq is not None:\n",
    "        raise ValueError(\"Only one of 'min_count' and 'min_freq' can be provided.\")\n",
    "        \n",
    "    # 将NaN替换为0\n",
    "    df = df.replace(np.nan, 0)\n",
    "    \n",
    "    # 计算每列中的非零值数量\n",
    "    non_zero_counts = df.astype(bool).sum(axis=0)\n",
    "    \n",
    "    # 根据最小次数或最小频率筛选列\n",
    "    if min_count is not None:\n",
    "        filtered_cols = non_zero_counts[non_zero_counts >= min_count].index\n",
    "    else:\n",
    "        thresh = df.shape[0] * min_freq\n",
    "        filtered_cols = non_zero_counts[non_zero_counts >= thresh].index\n",
    "    \n",
    "    return df[filtered_cols]"
   ]
  },
  {
   "cell_type": "code",
   "execution_count": 43,
   "metadata": {},
   "outputs": [
    {
     "data": {
      "text/html": [
       "<div>\n",
       "<style scoped>\n",
       "    .dataframe tbody tr th:only-of-type {\n",
       "        vertical-align: middle;\n",
       "    }\n",
       "\n",
       "    .dataframe tbody tr th {\n",
       "        vertical-align: top;\n",
       "    }\n",
       "\n",
       "    .dataframe thead th {\n",
       "        text-align: right;\n",
       "    }\n",
       "</style>\n",
       "<table border=\"1\" class=\"dataframe\">\n",
       "  <thead>\n",
       "    <tr style=\"text-align: right;\">\n",
       "      <th></th>\n",
       "      <th>511.32</th>\n",
       "      <th>512.29</th>\n",
       "      <th>513.32</th>\n",
       "      <th>514.32</th>\n",
       "      <th>518.35</th>\n",
       "      <th>519.3</th>\n",
       "      <th>521.19</th>\n",
       "      <th>522.39</th>\n",
       "      <th>523.38</th>\n",
       "      <th>524.41</th>\n",
       "      <th>...</th>\n",
       "      <th>816.59</th>\n",
       "      <th>817.55</th>\n",
       "      <th>828.52</th>\n",
       "      <th>829.52</th>\n",
       "      <th>830.57</th>\n",
       "      <th>832.65</th>\n",
       "      <th>834.68</th>\n",
       "      <th>835.65</th>\n",
       "      <th>836.67</th>\n",
       "      <th>850.7</th>\n",
       "    </tr>\n",
       "  </thead>\n",
       "  <tbody>\n",
       "    <tr>\n",
       "      <th>0</th>\n",
       "      <td>0.514763</td>\n",
       "      <td>0.360081</td>\n",
       "      <td>0.697731</td>\n",
       "      <td>0.174104</td>\n",
       "      <td>1.562168</td>\n",
       "      <td>0.255871</td>\n",
       "      <td>0.235689</td>\n",
       "      <td>1.334826</td>\n",
       "      <td>0.311429</td>\n",
       "      <td>3.105074</td>\n",
       "      <td>...</td>\n",
       "      <td>0.133913</td>\n",
       "      <td>0.000000</td>\n",
       "      <td>0.257140</td>\n",
       "      <td>0.188382</td>\n",
       "      <td>0.127276</td>\n",
       "      <td>0.000000</td>\n",
       "      <td>0.000000</td>\n",
       "      <td>0.000000</td>\n",
       "      <td>0.000000</td>\n",
       "      <td>0.000000</td>\n",
       "    </tr>\n",
       "    <tr>\n",
       "      <th>1</th>\n",
       "      <td>1.216098</td>\n",
       "      <td>0.962318</td>\n",
       "      <td>1.209912</td>\n",
       "      <td>0.282644</td>\n",
       "      <td>1.277035</td>\n",
       "      <td>0.336079</td>\n",
       "      <td>0.881952</td>\n",
       "      <td>1.121939</td>\n",
       "      <td>0.236641</td>\n",
       "      <td>1.600408</td>\n",
       "      <td>...</td>\n",
       "      <td>0.169299</td>\n",
       "      <td>0.000000</td>\n",
       "      <td>0.354255</td>\n",
       "      <td>0.267168</td>\n",
       "      <td>0.159342</td>\n",
       "      <td>0.000000</td>\n",
       "      <td>0.000000</td>\n",
       "      <td>0.000000</td>\n",
       "      <td>0.000000</td>\n",
       "      <td>0.156591</td>\n",
       "    </tr>\n",
       "    <tr>\n",
       "      <th>2</th>\n",
       "      <td>0.646368</td>\n",
       "      <td>0.481581</td>\n",
       "      <td>1.278379</td>\n",
       "      <td>0.327409</td>\n",
       "      <td>3.152753</td>\n",
       "      <td>0.646713</td>\n",
       "      <td>0.384198</td>\n",
       "      <td>1.581755</td>\n",
       "      <td>0.292302</td>\n",
       "      <td>2.854120</td>\n",
       "      <td>...</td>\n",
       "      <td>0.204696</td>\n",
       "      <td>0.149469</td>\n",
       "      <td>0.216424</td>\n",
       "      <td>0.182672</td>\n",
       "      <td>0.000000</td>\n",
       "      <td>0.000000</td>\n",
       "      <td>0.000000</td>\n",
       "      <td>0.000000</td>\n",
       "      <td>0.000000</td>\n",
       "      <td>0.000000</td>\n",
       "    </tr>\n",
       "    <tr>\n",
       "      <th>3</th>\n",
       "      <td>1.180529</td>\n",
       "      <td>0.652149</td>\n",
       "      <td>2.189925</td>\n",
       "      <td>0.467382</td>\n",
       "      <td>2.244439</td>\n",
       "      <td>0.500761</td>\n",
       "      <td>0.328342</td>\n",
       "      <td>0.873911</td>\n",
       "      <td>0.219871</td>\n",
       "      <td>1.748872</td>\n",
       "      <td>...</td>\n",
       "      <td>0.210043</td>\n",
       "      <td>0.133736</td>\n",
       "      <td>0.231400</td>\n",
       "      <td>0.178794</td>\n",
       "      <td>0.125296</td>\n",
       "      <td>0.121916</td>\n",
       "      <td>0.129621</td>\n",
       "      <td>0.000000</td>\n",
       "      <td>0.117737</td>\n",
       "      <td>0.000000</td>\n",
       "    </tr>\n",
       "    <tr>\n",
       "      <th>4</th>\n",
       "      <td>3.058327</td>\n",
       "      <td>2.101446</td>\n",
       "      <td>5.624392</td>\n",
       "      <td>1.406737</td>\n",
       "      <td>2.825733</td>\n",
       "      <td>1.300733</td>\n",
       "      <td>1.437142</td>\n",
       "      <td>1.526937</td>\n",
       "      <td>0.475474</td>\n",
       "      <td>1.624527</td>\n",
       "      <td>...</td>\n",
       "      <td>0.512504</td>\n",
       "      <td>0.521816</td>\n",
       "      <td>1.019437</td>\n",
       "      <td>0.418406</td>\n",
       "      <td>0.000000</td>\n",
       "      <td>0.000000</td>\n",
       "      <td>0.000000</td>\n",
       "      <td>0.000000</td>\n",
       "      <td>0.000000</td>\n",
       "      <td>0.000000</td>\n",
       "    </tr>\n",
       "    <tr>\n",
       "      <th>...</th>\n",
       "      <td>...</td>\n",
       "      <td>...</td>\n",
       "      <td>...</td>\n",
       "      <td>...</td>\n",
       "      <td>...</td>\n",
       "      <td>...</td>\n",
       "      <td>...</td>\n",
       "      <td>...</td>\n",
       "      <td>...</td>\n",
       "      <td>...</td>\n",
       "      <td>...</td>\n",
       "      <td>...</td>\n",
       "      <td>...</td>\n",
       "      <td>...</td>\n",
       "      <td>...</td>\n",
       "      <td>...</td>\n",
       "      <td>...</td>\n",
       "      <td>...</td>\n",
       "      <td>...</td>\n",
       "      <td>...</td>\n",
       "      <td>...</td>\n",
       "    </tr>\n",
       "    <tr>\n",
       "      <th>1539</th>\n",
       "      <td>0.174764</td>\n",
       "      <td>0.121974</td>\n",
       "      <td>0.114341</td>\n",
       "      <td>0.041488</td>\n",
       "      <td>0.327843</td>\n",
       "      <td>0.060638</td>\n",
       "      <td>0.000000</td>\n",
       "      <td>0.325447</td>\n",
       "      <td>0.063021</td>\n",
       "      <td>1.977023</td>\n",
       "      <td>...</td>\n",
       "      <td>0.070047</td>\n",
       "      <td>0.000000</td>\n",
       "      <td>0.090254</td>\n",
       "      <td>0.044239</td>\n",
       "      <td>0.083696</td>\n",
       "      <td>0.095222</td>\n",
       "      <td>0.119889</td>\n",
       "      <td>0.072762</td>\n",
       "      <td>0.096063</td>\n",
       "      <td>0.248563</td>\n",
       "    </tr>\n",
       "    <tr>\n",
       "      <th>1540</th>\n",
       "      <td>0.123780</td>\n",
       "      <td>0.000000</td>\n",
       "      <td>0.075884</td>\n",
       "      <td>0.000000</td>\n",
       "      <td>1.136887</td>\n",
       "      <td>0.140555</td>\n",
       "      <td>0.000000</td>\n",
       "      <td>0.290964</td>\n",
       "      <td>0.000000</td>\n",
       "      <td>3.962106</td>\n",
       "      <td>...</td>\n",
       "      <td>0.068992</td>\n",
       "      <td>0.050922</td>\n",
       "      <td>0.050377</td>\n",
       "      <td>0.059558</td>\n",
       "      <td>0.099759</td>\n",
       "      <td>0.065687</td>\n",
       "      <td>0.115058</td>\n",
       "      <td>0.084008</td>\n",
       "      <td>0.073834</td>\n",
       "      <td>0.346894</td>\n",
       "    </tr>\n",
       "    <tr>\n",
       "      <th>1541</th>\n",
       "      <td>0.053518</td>\n",
       "      <td>0.033489</td>\n",
       "      <td>0.037723</td>\n",
       "      <td>0.000000</td>\n",
       "      <td>0.472180</td>\n",
       "      <td>0.043014</td>\n",
       "      <td>0.000000</td>\n",
       "      <td>0.780524</td>\n",
       "      <td>0.121685</td>\n",
       "      <td>2.591534</td>\n",
       "      <td>...</td>\n",
       "      <td>0.060716</td>\n",
       "      <td>0.000000</td>\n",
       "      <td>0.050557</td>\n",
       "      <td>0.000000</td>\n",
       "      <td>0.114631</td>\n",
       "      <td>0.175335</td>\n",
       "      <td>0.188875</td>\n",
       "      <td>0.119062</td>\n",
       "      <td>0.185883</td>\n",
       "      <td>0.312129</td>\n",
       "    </tr>\n",
       "    <tr>\n",
       "      <th>1542</th>\n",
       "      <td>0.078683</td>\n",
       "      <td>0.040493</td>\n",
       "      <td>0.036112</td>\n",
       "      <td>0.000000</td>\n",
       "      <td>2.815254</td>\n",
       "      <td>0.330708</td>\n",
       "      <td>0.000000</td>\n",
       "      <td>0.354740</td>\n",
       "      <td>0.049155</td>\n",
       "      <td>3.718503</td>\n",
       "      <td>...</td>\n",
       "      <td>0.058220</td>\n",
       "      <td>0.000000</td>\n",
       "      <td>0.036905</td>\n",
       "      <td>0.035197</td>\n",
       "      <td>0.083425</td>\n",
       "      <td>0.092967</td>\n",
       "      <td>0.165887</td>\n",
       "      <td>0.069490</td>\n",
       "      <td>0.146860</td>\n",
       "      <td>0.777661</td>\n",
       "    </tr>\n",
       "    <tr>\n",
       "      <th>1543</th>\n",
       "      <td>0.202652</td>\n",
       "      <td>0.125892</td>\n",
       "      <td>0.120855</td>\n",
       "      <td>0.057015</td>\n",
       "      <td>1.126133</td>\n",
       "      <td>0.139915</td>\n",
       "      <td>0.069947</td>\n",
       "      <td>0.180068</td>\n",
       "      <td>0.045270</td>\n",
       "      <td>2.278400</td>\n",
       "      <td>...</td>\n",
       "      <td>0.058730</td>\n",
       "      <td>0.057571</td>\n",
       "      <td>0.087900</td>\n",
       "      <td>0.050858</td>\n",
       "      <td>0.057411</td>\n",
       "      <td>0.000000</td>\n",
       "      <td>0.052263</td>\n",
       "      <td>0.045358</td>\n",
       "      <td>0.053112</td>\n",
       "      <td>0.141388</td>\n",
       "    </tr>\n",
       "  </tbody>\n",
       "</table>\n",
       "<p>1544 rows × 146 columns</p>\n",
       "</div>"
      ],
      "text/plain": [
       "        511.32    512.29    513.32    514.32    518.35     519.3    521.19  \\\n",
       "0     0.514763  0.360081  0.697731  0.174104  1.562168  0.255871  0.235689   \n",
       "1     1.216098  0.962318  1.209912  0.282644  1.277035  0.336079  0.881952   \n",
       "2     0.646368  0.481581  1.278379  0.327409  3.152753  0.646713  0.384198   \n",
       "3     1.180529  0.652149  2.189925  0.467382  2.244439  0.500761  0.328342   \n",
       "4     3.058327  2.101446  5.624392  1.406737  2.825733  1.300733  1.437142   \n",
       "...        ...       ...       ...       ...       ...       ...       ...   \n",
       "1539  0.174764  0.121974  0.114341  0.041488  0.327843  0.060638  0.000000   \n",
       "1540  0.123780  0.000000  0.075884  0.000000  1.136887  0.140555  0.000000   \n",
       "1541  0.053518  0.033489  0.037723  0.000000  0.472180  0.043014  0.000000   \n",
       "1542  0.078683  0.040493  0.036112  0.000000  2.815254  0.330708  0.000000   \n",
       "1543  0.202652  0.125892  0.120855  0.057015  1.126133  0.139915  0.069947   \n",
       "\n",
       "        522.39    523.38    524.41  ...    816.59    817.55    828.52  \\\n",
       "0     1.334826  0.311429  3.105074  ...  0.133913  0.000000  0.257140   \n",
       "1     1.121939  0.236641  1.600408  ...  0.169299  0.000000  0.354255   \n",
       "2     1.581755  0.292302  2.854120  ...  0.204696  0.149469  0.216424   \n",
       "3     0.873911  0.219871  1.748872  ...  0.210043  0.133736  0.231400   \n",
       "4     1.526937  0.475474  1.624527  ...  0.512504  0.521816  1.019437   \n",
       "...        ...       ...       ...  ...       ...       ...       ...   \n",
       "1539  0.325447  0.063021  1.977023  ...  0.070047  0.000000  0.090254   \n",
       "1540  0.290964  0.000000  3.962106  ...  0.068992  0.050922  0.050377   \n",
       "1541  0.780524  0.121685  2.591534  ...  0.060716  0.000000  0.050557   \n",
       "1542  0.354740  0.049155  3.718503  ...  0.058220  0.000000  0.036905   \n",
       "1543  0.180068  0.045270  2.278400  ...  0.058730  0.057571  0.087900   \n",
       "\n",
       "        829.52    830.57    832.65    834.68    835.65    836.67     850.7  \n",
       "0     0.188382  0.127276  0.000000  0.000000  0.000000  0.000000  0.000000  \n",
       "1     0.267168  0.159342  0.000000  0.000000  0.000000  0.000000  0.156591  \n",
       "2     0.182672  0.000000  0.000000  0.000000  0.000000  0.000000  0.000000  \n",
       "3     0.178794  0.125296  0.121916  0.129621  0.000000  0.117737  0.000000  \n",
       "4     0.418406  0.000000  0.000000  0.000000  0.000000  0.000000  0.000000  \n",
       "...        ...       ...       ...       ...       ...       ...       ...  \n",
       "1539  0.044239  0.083696  0.095222  0.119889  0.072762  0.096063  0.248563  \n",
       "1540  0.059558  0.099759  0.065687  0.115058  0.084008  0.073834  0.346894  \n",
       "1541  0.000000  0.114631  0.175335  0.188875  0.119062  0.185883  0.312129  \n",
       "1542  0.035197  0.083425  0.092967  0.165887  0.069490  0.146860  0.777661  \n",
       "1543  0.050858  0.057411  0.000000  0.052263  0.045358  0.053112  0.141388  \n",
       "\n",
       "[1544 rows x 146 columns]"
      ]
     },
     "execution_count": 43,
     "metadata": {},
     "output_type": "execute_result"
    }
   ],
   "source": [
    "df = LoadMSData(root_path = root_path, data_path = 'data11/peaks.csv', t = False)\n",
    "dfx = FilterMassPeaks(df, min_freq=0.5)\n",
    "dfx"
   ]
  },
  {
   "cell_type": "code",
   "execution_count": 15,
   "metadata": {},
   "outputs": [],
   "source": [
    "data2 = pd.read_csv(r'/raid/lzyt_dir/Data/data11/label.csv',header=None)\n",
    "Labels = np.array(data2)\n",
    "train_Y = np.zeros((1544,2))                                       #将标签以独热编码存起来1544\n",
    "test_Y = np.zeros(1544)                                            #用于分层测试的标签\n",
    "i = 0\n",
    "for label in Labels:\n",
    "    ch = str(label)[2]\n",
    "    if(ch == 'N'):\n",
    "        train_Y[i,0] = 1\n",
    "        test_Y[i] = 0\n",
    "    if(ch == 'A'):\n",
    "        train_Y[i,1] = 1\n",
    "        test_Y[i] = 1\n",
    "    i = i + 1\n",
    "y = train_Y.astype(int)\n",
    "Y = test_Y.astype(int)"
   ]
  },
  {
   "cell_type": "code",
   "execution_count": 44,
   "metadata": {},
   "outputs": [
    {
     "name": "stdout",
     "output_type": "stream",
     "text": [
      "2024-01-29 19:33:29,155 - INFO - [bidd-aggmap] - Calculating distance ...\n",
      "2024-01-29 19:33:29,162 - INFO - [bidd-aggmap] - the number of process is 16\n"
     ]
    },
    {
     "name": "stderr",
     "output_type": "stream",
     "text": [
      "100%|##########| 10585/10585 [00:00<00:00, 12411.83it/s]\n",
      "100%|##########| 10585/10585 [00:00<00:00, 1748177.19it/s]\n",
      "100%|##########| 146/146 [00:00<00:00, 700.02it/s]\n"
     ]
    },
    {
     "name": "stdout",
     "output_type": "stream",
     "text": [
      "2024-01-29 19:33:31,252 - INFO - [bidd-aggmap] - applying hierarchical clustering to obtain group information ...\n",
      "2024-01-29 19:33:31,487 - INFO - [bidd-aggmap] - Applying grid assignment of feature points, this may take several minutes(1~30 min)\n",
      "2024-01-29 19:33:31,518 - INFO - [bidd-aggmap] - Finished\n"
     ]
    },
    {
     "data": {
      "text/plain": [
       "<aggmap.map.AggMap at 0x7f4c2966d978>"
      ]
     },
     "execution_count": 44,
     "metadata": {},
     "output_type": "execute_result"
    }
   ],
   "source": [
    "mp = AggMap(dfx, metric = 'correlation')                        #使用欧式距离\n",
    "mp.fit(cluster_channels=9, emb_method = 'umap', verbose=0)      #设置通道值\n",
    "#SaveMpOrX(data = mp, save_path = save_path, data_num = 'data10', file_type = 'aggmap', file_name = 'aggmap_peaks.mp')"
   ]
  },
  {
   "cell_type": "code",
   "execution_count": 45,
   "metadata": {},
   "outputs": [
    {
     "name": "stderr",
     "output_type": "stream",
     "text": [
      "100%|##########| 1544/1544 [00:04<00:00, 360.65it/s] \n"
     ]
    }
   ],
   "source": [
    "# Transoformation of 1d vectors to 3D Fmaps (-1, w, h, c) by AggMap\n",
    "X = mp.batch_transform(dfx.values, n_jobs=4, scale_method = 'minmax')\n",
    "#SaveMpOrX(data = X, save_path = save_path, data_num = 'data1', file_type = 'Xdata', file_name = 'X_human_0.2.dat')"
   ]
  },
  {
   "cell_type": "code",
   "execution_count": 54,
   "metadata": {
    "scrolled": true
   },
   "outputs": [
    {
     "name": "stdout",
     "output_type": "stream",
     "text": [
      "Auc =  0.7115090816499745\n",
      "Acc =  0.7152103559870551\n",
      "f1_score =  0.715210355987055\n",
      "average_precision =  0.7152103559870551\n",
      "recall_score =  0.7152103559870551\n"
     ]
    },
    {
     "data": {
      "image/png": "[encoded data removed]",
      "text/plain": [
       "<Figure size 432x288 with 1 Axes>"
      ]
     },
     "metadata": {
      "needs_background": "light"
     },
     "output_type": "display_data"
    },
    {
     "name": "stdout",
     "output_type": "stream",
     "text": [
      "Auc =  0.7186173824478018\n",
      "Acc =  0.7313915857605178\n",
      "f1_score =  0.7313915857605178\n",
      "average_precision =  0.7313915857605178\n",
      "recall_score =  0.7313915857605178\n"
     ]
    },
    {
     "data": {
      "image/png": "[encoded data removed]",
      "text/plain": [
       "<Figure size 432x288 with 1 Axes>"
      ]
     },
     "metadata": {
      "needs_background": "light"
     },
     "output_type": "display_data"
    },
    {
     "name": "stdout",
     "output_type": "stream",
     "text": [
      "Auc =  0.7471991172975726\n",
      "Acc =  0.7508090614886731\n",
      "f1_score =  0.7508090614886731\n",
      "average_precision =  0.7508090614886731\n",
      "recall_score =  0.7508090614886731\n"
     ]
    },
    {
     "data": {
      "image/png": "[encoded data removed]",
      "text/plain": [
       "<Figure size 432x288 with 1 Axes>"
      ]
     },
     "metadata": {
      "needs_background": "light"
     },
     "output_type": "display_data"
    },
    {
     "name": "stdout",
     "output_type": "stream",
     "text": [
      "Auc =  0.7033398404345612\n",
      "Acc =  0.7152103559870551\n",
      "f1_score =  0.715210355987055\n",
      "average_precision =  0.7152103559870551\n",
      "recall_score =  0.7152103559870551\n"
     ]
    },
    {
     "data": {
      "image/png": "[encoded data removed]",
      "text/plain": [
       "<Figure size 432x288 with 1 Axes>"
      ]
     },
     "metadata": {
      "needs_background": "light"
     },
     "output_type": "display_data"
    },
    {
     "name": "stdout",
     "output_type": "stream",
     "text": [
      "Auc =  0.7527359781121751\n",
      "Acc =  0.7564935064935064\n",
      "f1_score =  0.7564935064935063\n",
      "average_precision =  0.7564935064935064\n",
      "recall_score =  0.7564935064935064\n"
     ]
    },
    {
     "data": {
      "image/png": "[encoded data removed]",
      "text/plain": [
       "<Figure size 432x288 with 1 Axes>"
      ]
     },
     "metadata": {
      "needs_background": "light"
     },
     "output_type": "display_data"
    },
    {
     "data": {
      "text/plain": [
       "0.7338229731433614"
      ]
     },
     "execution_count": 54,
     "metadata": {},
     "output_type": "execute_result"
    }
   ],
   "source": [
    "#三核 五折交叉验证最佳结果 0.7338\n",
    "outer = StratifiedKFold(n_splits = 5,shuffle = True,random_state=42)      #数据集进行分层交叉验证划分训练集和测试集\n",
    "Sum_acc = 0\n",
    "for train_index,test_index in outer.split(X,Y):\n",
    "    train_X,test_X = X[train_index],X[test_index]\n",
    "    train_Y,test_y = y[train_index],Y[test_index]\n",
    "    \n",
    "    clf = MALDINet.MultiClassEstimator(kernel_block='MK',units=[12,24,48],dense_layers=[128],batch_size=128,epochs=40,gpuid=3)\n",
    "    clf.fit(train_X, train_Y)\n",
    "\n",
    "    y_pred = clf.predict(test_X)\n",
    "    #MADLINet Test Metrics\n",
    "    auc = roc_auc_score(test_y, y_pred)\n",
    "    acc = accuracy_score(test_y,y_pred)\n",
    "    rec = recall_score(test_y, y_pred,average=\"micro\")\n",
    "    f1 = f1_score(test_y, y_pred,average=\"micro\")\n",
    "    pr = precision_score(test_y, y_pred,average=\"micro\")\n",
    "    print(\"Auc = \",auc)\n",
    "    print(\"Acc = \",acc)\n",
    "    print(\"f1_score = \",f1)\n",
    "    print(\"average_precision = \",pr)\n",
    "    print(\"recall_score = \",rec)\n",
    "    Sum_acc += acc\n",
    "    #plot train curve\n",
    "    PlotCurve(clf.history)\n",
    "Sum_acc / 5"
   ]
  },
  {
   "cell_type": "code",
   "execution_count": null,
   "metadata": {},
   "outputs": [],
   "source": []
  }
 ],
 "metadata": {
  "kernelspec": {
   "display_name": "aggmapnet",
   "language": "python",
   "name": "aggmapnet"
  },
  "language_info": {
   "codemirror_mode": {
    "name": "ipython",
    "version": 3
   },
   "file_extension": ".py",
   "mimetype": "text/x-python",
   "name": "python",
   "nbconvert_exporter": "python",
   "pygments_lexer": "ipython3",
   "version": "3.6.9"
  }
 },
 "nbformat": 4,
 "nbformat_minor": 2
}
